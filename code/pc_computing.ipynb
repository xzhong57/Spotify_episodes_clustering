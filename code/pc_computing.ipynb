{
 "cells": [
  {
   "cell_type": "code",
   "execution_count": 7,
   "id": "53f8929d",
   "metadata": {},
   "outputs": [],
   "source": [
    "import pandas as pd\n",
    "\n",
    "episodes_data = [pd.read_csv(f'episodes_data_epoch_{i}.csv') for i in range(1,6)]\n",
    "episodes_data.append(pd.read_csv(f'episodes_data_epoch_3_remain.csv'))\n",
    "episodes_data = pd.concat(episodes_data, ignore_index=True)\n",
    "episodes_data.drop_duplicates(subset='episode_id', keep='first')\n",
    "episodes_data.dropna(inplace=True)\n",
    "episodes_data.reset_index(drop=True, inplace=True)"
   ]
  },
  {
   "cell_type": "code",
   "execution_count": 9,
   "id": "ddbac728",
   "metadata": {},
   "outputs": [],
   "source": [
    "episodes_data.to_csv('episodes_data.csv', index=False)"
   ]
  },
  {
   "cell_type": "code",
   "execution_count": 8,
   "id": "81b59335",
   "metadata": {},
   "outputs": [
    {
     "data": {
      "text/html": [
       "<div>\n",
       "<style scoped>\n",
       "    .dataframe tbody tr th:only-of-type {\n",
       "        vertical-align: middle;\n",
       "    }\n",
       "\n",
       "    .dataframe tbody tr th {\n",
       "        vertical-align: top;\n",
       "    }\n",
       "\n",
       "    .dataframe thead th {\n",
       "        text-align: right;\n",
       "    }\n",
       "</style>\n",
       "<table border=\"1\" class=\"dataframe\">\n",
       "  <thead>\n",
       "    <tr style=\"text-align: right;\">\n",
       "      <th></th>\n",
       "      <th>episode_id</th>\n",
       "      <th>episode_name</th>\n",
       "      <th>episode_description</th>\n",
       "      <th>show_id</th>\n",
       "      <th>show_category</th>\n",
       "    </tr>\n",
       "  </thead>\n",
       "  <tbody>\n",
       "    <tr>\n",
       "      <th>0</th>\n",
       "      <td>0347KaI75ADlF0HLYGKMhR</td>\n",
       "      <td>Fashion Tier List (Supreme, Rick Owens, etc.)</td>\n",
       "      <td>Max Bratter and Allen Underwood rank some of t...</td>\n",
       "      <td>3ozYIoFrKrBkn6XzlaZZe8</td>\n",
       "      <td>Arts &amp; Entertainment</td>\n",
       "    </tr>\n",
       "    <tr>\n",
       "      <th>1</th>\n",
       "      <td>4n9xXUvxepubHp9OuvFmX5</td>\n",
       "      <td>Is Ken Carson the true successor to Playboi Ca...</td>\n",
       "      <td>Max Bratter and Allen Underwood spend this epi...</td>\n",
       "      <td>3ozYIoFrKrBkn6XzlaZZe8</td>\n",
       "      <td>Arts &amp; Entertainment</td>\n",
       "    </tr>\n",
       "    <tr>\n",
       "      <th>2</th>\n",
       "      <td>7LLAkFrGLPGM4hpwYOeGq3</td>\n",
       "      <td>A&amp;E is For All the Dogs</td>\n",
       "      <td>Max Bratter and Allen Underwood dedicate this ...</td>\n",
       "      <td>3ozYIoFrKrBkn6XzlaZZe8</td>\n",
       "      <td>Arts &amp; Entertainment</td>\n",
       "    </tr>\n",
       "    <tr>\n",
       "      <th>3</th>\n",
       "      <td>4uBmFBXNFQmo8eG5OqIwhD</td>\n",
       "      <td>Is Lil Tecca falling off? Which new songs and ...</td>\n",
       "      <td>In the first episode of The Spectator’s Arts &amp;...</td>\n",
       "      <td>3ozYIoFrKrBkn6XzlaZZe8</td>\n",
       "      <td>Arts &amp; Entertainment</td>\n",
       "    </tr>\n",
       "    <tr>\n",
       "      <th>4</th>\n",
       "      <td>4sopLohQdirkxwGoQuQm0T</td>\n",
       "      <td>Is Dax Shepard Bert's New Best Friend?  | 2 Be...</td>\n",
       "      <td>Don’t forget to check out Dax Shepard’s own po...</td>\n",
       "      <td>1PgDUTgeyu3FOzK1FcBoqa</td>\n",
       "      <td>Arts &amp; Entertainment</td>\n",
       "    </tr>\n",
       "    <tr>\n",
       "      <th>...</th>\n",
       "      <td>...</td>\n",
       "      <td>...</td>\n",
       "      <td>...</td>\n",
       "      <td>...</td>\n",
       "      <td>...</td>\n",
       "    </tr>\n",
       "    <tr>\n",
       "      <th>514585</th>\n",
       "      <td>39Ayo7uW568hhEM03QQGWe</td>\n",
       "      <td>Episode 45: Tom Brown Part 3</td>\n",
       "      <td>Tom Brown was a popular, well liked senior at ...</td>\n",
       "      <td>7EvBmo358g2gFkvJKqY7KB</td>\n",
       "      <td>True Crime</td>\n",
       "    </tr>\n",
       "    <tr>\n",
       "      <th>514586</th>\n",
       "      <td>20HU5OYUYGjGQU1qkECUf1</td>\n",
       "      <td>Episode 46: Alex Van Dalsen</td>\n",
       "      <td>Alex Van Dalsen left his house on foot at 11:4...</td>\n",
       "      <td>7EvBmo358g2gFkvJKqY7KB</td>\n",
       "      <td>True Crime</td>\n",
       "    </tr>\n",
       "    <tr>\n",
       "      <th>514587</th>\n",
       "      <td>5XwDzbYPp3G2ZJsU1qxmgE</td>\n",
       "      <td>Episode 47: Brian Deneke</td>\n",
       "      <td>Brian Deneke was an artist, musician and leade...</td>\n",
       "      <td>7EvBmo358g2gFkvJKqY7KB</td>\n",
       "      <td>True Crime</td>\n",
       "    </tr>\n",
       "    <tr>\n",
       "      <th>514588</th>\n",
       "      <td>6Gszyqw77BOPkyvfZOiXDJ</td>\n",
       "      <td>Episode 48: Theodore Robert Wright III</td>\n",
       "      <td>Theodore Robert Wright III, aka, T.R. was a we...</td>\n",
       "      <td>7EvBmo358g2gFkvJKqY7KB</td>\n",
       "      <td>True Crime</td>\n",
       "    </tr>\n",
       "    <tr>\n",
       "      <th>514589</th>\n",
       "      <td>6Sr5rFO7VBizEuGeUyHHif</td>\n",
       "      <td>Episode 49: Sarah Anne Kashka</td>\n",
       "      <td>In the early 80s young women were going missin...</td>\n",
       "      <td>7EvBmo358g2gFkvJKqY7KB</td>\n",
       "      <td>True Crime</td>\n",
       "    </tr>\n",
       "  </tbody>\n",
       "</table>\n",
       "<p>514590 rows × 5 columns</p>\n",
       "</div>"
      ],
      "text/plain": [
       "                    episode_id  \\\n",
       "0       0347KaI75ADlF0HLYGKMhR   \n",
       "1       4n9xXUvxepubHp9OuvFmX5   \n",
       "2       7LLAkFrGLPGM4hpwYOeGq3   \n",
       "3       4uBmFBXNFQmo8eG5OqIwhD   \n",
       "4       4sopLohQdirkxwGoQuQm0T   \n",
       "...                        ...   \n",
       "514585  39Ayo7uW568hhEM03QQGWe   \n",
       "514586  20HU5OYUYGjGQU1qkECUf1   \n",
       "514587  5XwDzbYPp3G2ZJsU1qxmgE   \n",
       "514588  6Gszyqw77BOPkyvfZOiXDJ   \n",
       "514589  6Sr5rFO7VBizEuGeUyHHif   \n",
       "\n",
       "                                             episode_name  \\\n",
       "0           Fashion Tier List (Supreme, Rick Owens, etc.)   \n",
       "1       Is Ken Carson the true successor to Playboi Ca...   \n",
       "2                                 A&E is For All the Dogs   \n",
       "3       Is Lil Tecca falling off? Which new songs and ...   \n",
       "4       Is Dax Shepard Bert's New Best Friend?  | 2 Be...   \n",
       "...                                                   ...   \n",
       "514585                       Episode 45: Tom Brown Part 3   \n",
       "514586                        Episode 46: Alex Van Dalsen   \n",
       "514587                           Episode 47: Brian Deneke   \n",
       "514588             Episode 48: Theodore Robert Wright III   \n",
       "514589                      Episode 49: Sarah Anne Kashka   \n",
       "\n",
       "                                      episode_description  \\\n",
       "0       Max Bratter and Allen Underwood rank some of t...   \n",
       "1       Max Bratter and Allen Underwood spend this epi...   \n",
       "2       Max Bratter and Allen Underwood dedicate this ...   \n",
       "3       In the first episode of The Spectator’s Arts &...   \n",
       "4       Don’t forget to check out Dax Shepard’s own po...   \n",
       "...                                                   ...   \n",
       "514585  Tom Brown was a popular, well liked senior at ...   \n",
       "514586  Alex Van Dalsen left his house on foot at 11:4...   \n",
       "514587  Brian Deneke was an artist, musician and leade...   \n",
       "514588  Theodore Robert Wright III, aka, T.R. was a we...   \n",
       "514589  In the early 80s young women were going missin...   \n",
       "\n",
       "                       show_id         show_category  \n",
       "0       3ozYIoFrKrBkn6XzlaZZe8  Arts & Entertainment  \n",
       "1       3ozYIoFrKrBkn6XzlaZZe8  Arts & Entertainment  \n",
       "2       3ozYIoFrKrBkn6XzlaZZe8  Arts & Entertainment  \n",
       "3       3ozYIoFrKrBkn6XzlaZZe8  Arts & Entertainment  \n",
       "4       1PgDUTgeyu3FOzK1FcBoqa  Arts & Entertainment  \n",
       "...                        ...                   ...  \n",
       "514585  7EvBmo358g2gFkvJKqY7KB            True Crime  \n",
       "514586  7EvBmo358g2gFkvJKqY7KB            True Crime  \n",
       "514587  7EvBmo358g2gFkvJKqY7KB            True Crime  \n",
       "514588  7EvBmo358g2gFkvJKqY7KB            True Crime  \n",
       "514589  7EvBmo358g2gFkvJKqY7KB            True Crime  \n",
       "\n",
       "[514590 rows x 5 columns]"
      ]
     },
     "execution_count": 8,
     "metadata": {},
     "output_type": "execute_result"
    }
   ],
   "source": [
    "episodes_data"
   ]
  },
  {
   "cell_type": "code",
   "execution_count": 10,
   "id": "ee754d3e",
   "metadata": {},
   "outputs": [
    {
     "name": "stderr",
     "output_type": "stream",
     "text": [
      "[nltk_data] Downloading package punkt to\n",
      "[nltk_data]     C:\\Users\\zxr01\\AppData\\Roaming\\nltk_data...\n",
      "[nltk_data]   Package punkt is already up-to-date!\n",
      "[nltk_data] Downloading package stopwords to\n",
      "[nltk_data]     C:\\Users\\zxr01\\AppData\\Roaming\\nltk_data...\n",
      "[nltk_data]   Package stopwords is already up-to-date!\n"
     ]
    }
   ],
   "source": [
    "from collections import Counter\n",
    "from wordcloud import WordCloud\n",
    "import matplotlib.pyplot as plt\n",
    "from nltk.corpus import stopwords\n",
    "import re\n",
    "from nltk.tokenize import word_tokenize\n",
    "import nltk\n",
    "\n",
    "nltk.download('punkt')\n",
    "nltk.download('stopwords')\n",
    "\n",
    "stop_words = stopwords.words('english')\n",
    "stop_words += ['show', 'shows', 'podcast', 'podcasts', 'episode', 'episodes']\n",
    "\n",
    "def preprocess_text(text):\n",
    "    text = re.sub(r'http\\S+|www\\.\\S+', '', text)\n",
    "    tokens = word_tokenize(text.lower())\n",
    "    meaningful_words = [word for word in tokens if word.isalnum() and word not in stop_words]\n",
    "    return meaningful_words"
   ]
  },
  {
   "cell_type": "code",
   "execution_count": 15,
   "id": "145d482a",
   "metadata": {},
   "outputs": [],
   "source": [
    "import numpy as np\n",
    "from scipy.sparse import csr_matrix, save_npz\n",
    "\n",
    "word_counts = []\n",
    "\n",
    "for description in episodes_data['episode_description']:\n",
    "    words = preprocess_text(description)\n",
    "    word_counts.append(Counter(words))"
   ]
  },
  {
   "cell_type": "code",
   "execution_count": 12,
   "id": "b735a9df",
   "metadata": {},
   "outputs": [],
   "source": [
    "with open(\"filtered_words.txt\", \"r\") as f:\n",
    "    filtered_words = [line.strip() for line in f]"
   ]
  },
  {
   "cell_type": "code",
   "execution_count": 16,
   "id": "3959fa7d",
   "metadata": {},
   "outputs": [],
   "source": [
    "rows = []\n",
    "cols = []\n",
    "data = []\n",
    "\n",
    "for i, word_count in enumerate(word_counts):\n",
    "    for word, count in word_count.items():\n",
    "        if word in filtered_words:\n",
    "            rows.append(i)\n",
    "            cols.append(filtered_words.index(word))\n",
    "            data.append(count)"
   ]
  },
  {
   "cell_type": "code",
   "execution_count": 17,
   "id": "21b05ce7",
   "metadata": {},
   "outputs": [],
   "source": [
    "sparse_matrix = csr_matrix((data, (rows, cols)), shape=(len(word_counts), len(filtered_words)))\n",
    "save_npz(f'sparse_matrix.npz', sparse_matrix)"
   ]
  },
  {
   "cell_type": "code",
   "execution_count": 18,
   "id": "3d934561",
   "metadata": {},
   "outputs": [],
   "source": [
    "from sklearn.decomposition import TruncatedSVD\n",
    "import joblib\n",
    "\n",
    "svd = joblib.load('pca_model.pkl')"
   ]
  },
  {
   "cell_type": "code",
   "execution_count": 24,
   "id": "645bf7d5",
   "metadata": {},
   "outputs": [
    {
     "data": {
      "text/plain": [
       "(514590, 34223)"
      ]
     },
     "execution_count": 24,
     "metadata": {},
     "output_type": "execute_result"
    }
   ],
   "source": [
    "sparse_matrix.shape"
   ]
  },
  {
   "cell_type": "code",
   "execution_count": 25,
   "id": "7b867611",
   "metadata": {},
   "outputs": [],
   "source": [
    "principal_components = svd.transform(sparse_matrix[:10000,:])[:,:87]\n",
    "for i in range(1,51):\n",
    "    principal_components = np.vstack((principal_components, svd.transform(sparse_matrix[(i*10000):((i+1)*10000),:])[:,:87]))\n",
    "principal_components = np.vstack((principal_components, svd.transform(sparse_matrix[510000:,:])[:,:87]))\n",
    "np.save(f'principal_components.npy', principal_components)"
   ]
  },
  {
   "cell_type": "code",
   "execution_count": 26,
   "id": "2c741177",
   "metadata": {},
   "outputs": [
    {
     "data": {
      "text/plain": [
       "(514590, 87)"
      ]
     },
     "execution_count": 26,
     "metadata": {},
     "output_type": "execute_result"
    }
   ],
   "source": [
    "principal_components.shape"
   ]
  },
  {
   "cell_type": "code",
   "execution_count": null,
   "id": "268f1f81",
   "metadata": {},
   "outputs": [],
   "source": []
  },
  {
   "cell_type": "code",
   "execution_count": null,
   "id": "b626cdfc",
   "metadata": {},
   "outputs": [],
   "source": []
  },
  {
   "cell_type": "code",
   "execution_count": null,
   "id": "6f42f9d4",
   "metadata": {},
   "outputs": [],
   "source": []
  },
  {
   "cell_type": "code",
   "execution_count": 47,
   "id": "26a88e1e",
   "metadata": {},
   "outputs": [
    {
     "data": {
      "text/plain": [
       "episode_id                                        2z9c5FLNmTs9WiJckkkN8a\n",
       "episode_name               Can't Sleep? Catch Some ZZZs With These Songs\n",
       "episode_description    There are songs you want to groove to, and son...\n",
       "show_id                                           25auwWceZnlOEK6SwtO1y1\n",
       "show_category                                       Arts & Entertainment\n",
       "Name: 69, dtype: object"
      ]
     },
     "execution_count": 47,
     "metadata": {},
     "output_type": "execute_result"
    }
   ],
   "source": [
    "ep = episodes_data[episodes_data['episode_id'] == '2z9c5FLNmTs9WiJckkkN8a'].iloc[0,]\n",
    "ep"
   ]
  },
  {
   "cell_type": "code",
   "execution_count": 50,
   "id": "854a703f",
   "metadata": {},
   "outputs": [
    {
     "data": {
      "text/plain": [
       "\"There are songs you want to groove to, and songs you want to pump up to. But sometimes, you just want something for the come down at the end of a long day. If you're having trouble sleeping in silence, or are just looking for some new songs to throw into your bedtime rotation, we've got you covered. In this encore episode, we are recommending three great songs that will help you fall asleep.Learn more about sponsor message choices: podcastchoices.com/adchoicesNPR Privacy Policy\""
      ]
     },
     "execution_count": 50,
     "metadata": {},
     "output_type": "execute_result"
    }
   ],
   "source": [
    "episodes_data['episode_description'][69]"
   ]
  },
  {
   "cell_type": "code",
   "execution_count": 51,
   "id": "299e7ec0",
   "metadata": {},
   "outputs": [
    {
     "data": {
      "text/plain": [
       "array([ 0.92447498,  0.11087223,  0.00964374, -0.43205882,  0.00540736,\n",
       "       -0.20857631, -0.13287682,  0.07703931, -0.61127006,  0.49465513,\n",
       "       -0.10794985, -0.22574975,  0.04410486, -0.14016755,  0.14687815,\n",
       "       -0.15791277, -0.26080876,  0.44781955, -0.29916051,  0.04655094,\n",
       "        0.10013883,  0.35290107,  0.30506445, -0.36628398, -0.00452934,\n",
       "        0.0044764 ,  0.31202182,  0.26034715, -0.18818519, -0.40737128,\n",
       "       -0.06068705, -0.52062875, -0.23136405,  0.08102843, -0.11196589,\n",
       "       -0.03433976,  0.30221783,  0.1147293 ,  0.2371454 ,  0.54735898,\n",
       "       -0.06110954,  0.1025821 , -0.07493729, -0.26182426,  0.16824977,\n",
       "        0.25802496, -0.07735308,  0.53406352, -0.1392262 ,  0.31243761,\n",
       "       -0.37457669,  0.0061083 ,  0.27153899,  0.07609294,  0.52573327,\n",
       "        0.06143376,  0.26388408, -0.02501677,  0.70305915,  0.1710601 ,\n",
       "       -0.47585088, -0.2777896 , -0.35731282, -0.1387121 ,  0.12622612,\n",
       "       -0.55617482, -0.35518972,  0.02920096, -0.64451409,  0.16531183,\n",
       "       -0.10857193,  0.09194528,  0.1094424 , -0.52413432, -0.1705457 ,\n",
       "        0.06585937, -0.12038747, -0.66783659,  0.14482005,  1.02859272,\n",
       "        0.10062275, -0.0687685 ,  0.37937062, -0.51590772,  0.31849964,\n",
       "        0.40358143,  0.45469911])"
      ]
     },
     "execution_count": 51,
     "metadata": {},
     "output_type": "execute_result"
    }
   ],
   "source": [
    "principal_components[69,:]"
   ]
  },
  {
   "cell_type": "code",
   "execution_count": 38,
   "id": "72c4113f",
   "metadata": {},
   "outputs": [
    {
     "data": {
      "text/plain": [
       "array([ 1.85090474e+00, -1.26929851e-01, -1.41556679e-02, -2.57917788e-01,\n",
       "        1.86453341e-01, -1.70983163e-01,  6.44366572e-02, -1.15451558e-02,\n",
       "       -5.48560436e-02, -1.09189907e-02, -6.47983883e-02, -3.31990473e-02,\n",
       "        2.75181181e-02, -3.61555441e-02,  4.45438590e-02, -2.36750163e-02,\n",
       "       -2.50230263e-02, -4.35175640e-02,  2.91503061e-02, -1.52768880e-02,\n",
       "        1.54456403e-02, -2.41083124e-02, -3.48035747e-02,  2.73956493e-02,\n",
       "       -7.74651463e-03,  2.58101074e-02, -3.62432233e-03,  6.60668813e-03,\n",
       "        4.01567497e-02,  6.39757118e-03,  9.17174527e-03, -3.21031836e-02,\n",
       "        3.94028214e-03, -2.09225994e-03, -1.11201345e-02, -2.81598239e-02,\n",
       "        2.17205119e-02, -5.44656417e-02,  1.66167588e-02,  1.54294048e-02,\n",
       "       -6.38646157e-02,  5.44461140e-03,  4.05712198e-03, -5.91578738e-04,\n",
       "       -7.09833448e-03,  2.87582739e-03, -1.04515682e-03, -2.99701184e-02,\n",
       "        4.09867103e-03, -1.53019876e-03,  1.48631019e-02, -1.22699566e-02,\n",
       "        9.01931410e-03, -1.22979296e-03, -4.08718889e-03,  2.22661502e-02,\n",
       "       -9.70827763e-03, -1.12025243e-02, -1.38202077e-02, -9.10415708e-03,\n",
       "       -1.00752684e-02, -5.14478402e-03, -8.06857481e-03,  1.56666722e-02,\n",
       "       -1.69776356e-02,  9.39045134e-05, -7.56530731e-03,  2.46025832e-02,\n",
       "        5.62830293e-03,  1.24415165e-02,  1.08066925e-02, -6.14841663e-03,\n",
       "        1.29935631e-02, -1.40102224e-02, -7.41788252e-03, -7.39115288e-03,\n",
       "        3.43202655e-02,  5.45564215e-03, -5.17120937e-03, -1.03244181e-02,\n",
       "        4.11121157e-03, -2.13116922e-03,  6.81839643e-03,  6.59743964e-03,\n",
       "        3.22933723e-03,  1.27777782e-02, -1.06548962e-02])"
      ]
     },
     "execution_count": 38,
     "metadata": {},
     "output_type": "execute_result"
    }
   ],
   "source": [
    "principal_components.mean(0)"
   ]
  },
  {
   "cell_type": "code",
   "execution_count": null,
   "id": "3e738772",
   "metadata": {},
   "outputs": [],
   "source": []
  }
 ],
 "metadata": {
  "kernelspec": {
   "display_name": "Python 3 (ipykernel)",
   "language": "python",
   "name": "python3"
  },
  "language_info": {
   "codemirror_mode": {
    "name": "ipython",
    "version": 3
   },
   "file_extension": ".py",
   "mimetype": "text/x-python",
   "name": "python",
   "nbconvert_exporter": "python",
   "pygments_lexer": "ipython3",
   "version": "3.11.7"
  }
 },
 "nbformat": 4,
 "nbformat_minor": 5
}
