{
 "cells": [
  {
   "cell_type": "markdown",
   "id": "61cd2621",
   "metadata": {
    "scrolled": false
   },
   "source": [
    "import spotipy\n",
    "from spotipy.oauth2 import SpotifyClientCredentials\n",
    "\n",
    "client_id = '9bd3a02927954156971b2be285f9dcee'\n",
    "client_secret = 'c5f057706ed64931942b80729eb4e35c'\n",
    "\n",
    "client_credentials_manager = SpotifyClientCredentials(client_id=client_id, client_secret=client_secret)\n",
    "sp = spotipy.Spotify(client_credentials_manager=client_credentials_manager)\n",
    "\n",
    "name = 'AI'\n",
    "\n",
    "results = sp.search(q=name, type='show')\n",
    "show_id = results['shows']['items'][0]['id']\n",
    "show = sp.show(show_id)\n",
    "episode_description = show['episodes']['items'][0]['description']"
   ]
  },
  {
   "cell_type": "markdown",
   "id": "415166c5",
   "metadata": {},
   "source": [
    "results['shows']['items'][0].keys()"
   ]
  },
  {
   "cell_type": "markdown",
   "id": "bd8dc826",
   "metadata": {},
   "source": [
    "show['episodes']['items'][0]['description']"
   ]
  },
  {
   "cell_type": "markdown",
   "id": "8f9b206d",
   "metadata": {},
   "source": [
    "with open('categories.txt', 'r', encoding='utf-8-sig') as file:\n",
    "    lines = file.readlines()\n",
    "\n",
    "lines = [line.strip() for line in lines]\n",
    "\n",
    "print(lines)"
   ]
  },
  {
   "cell_type": "code",
   "execution_count": null,
   "id": "a4e7d0fa",
   "metadata": {},
   "outputs": [],
   "source": []
  },
  {
   "cell_type": "code",
   "execution_count": null,
   "id": "04dbf0ad",
   "metadata": {},
   "outputs": [],
   "source": []
  },
  {
   "cell_type": "code",
   "execution_count": null,
   "id": "928fccdf",
   "metadata": {},
   "outputs": [],
   "source": []
  },
  {
   "cell_type": "code",
   "execution_count": 1,
   "id": "184ee673",
   "metadata": {},
   "outputs": [],
   "source": [
    "import spotipy\n",
    "from spotipy.oauth2 import SpotifyClientCredentials\n",
    "\n",
    "client_id = ''\n",
    "client_secret = ''\n",
    "\n",
    "client_credentials_manager = SpotifyClientCredentials(client_id=client_id, client_secret=client_secret)\n",
    "sp = spotipy.Spotify(client_credentials_manager=client_credentials_manager)"
   ]
  },
  {
   "cell_type": "code",
   "execution_count": 2,
   "id": "94df1822",
   "metadata": {},
   "outputs": [],
   "source": [
    "with open('categories.txt', 'r', encoding='utf-8-sig') as file:\n",
    "    categories = file.readlines()\n",
    "categories = [cat.strip() for cat in categories]"
   ]
  },
  {
   "cell_type": "code",
   "execution_count": 3,
   "id": "1a810893",
   "metadata": {},
   "outputs": [],
   "source": [
    "ini_epoch = 5    # The epoch to start searching (>=1)\n",
    "end_epoch = 5    # The epoch to end searching\n",
    "limit_shows = 50 # shows searching limit for each epoch (max 50)"
   ]
  },
  {
   "cell_type": "code",
   "execution_count": 4,
   "id": "440081e7",
   "metadata": {
    "scrolled": false
   },
   "outputs": [
    {
     "name": "stdout",
     "output_type": "stream",
     "text": [
      "Epoch 5:\n",
      "\tSearching for Arts & Entertainment: 50 shows are found. Searching for episodes: Done.\n",
      "\tSearching for Books: 50 shows are found. Searching for episodes: Done.\n",
      "\tSearching for Celebrities: 50 shows are found. Searching for episodes: Done.\n",
      "\tSearching for Comedy: 50 shows are found. Searching for episodes: Done.\n",
      "\tSearching for Design: 50 shows are found. Searching for episodes: Done.\n",
      "\tSearching for Fiction: 50 shows are found. Searching for episodes: Done.\n",
      "\tSearching for Film: 50 shows are found. Searching for episodes: Done.\n",
      "\tSearching for Literature: 50 shows are found. Searching for episodes: Done.\n",
      "\tSearching for Pop Culture: 50 shows are found. Searching for episodes: Done.\n",
      "\tSearching for Stories: 50 shows are found. Searching for episodes: Done.\n",
      "\tSearching for TV: 50 shows are found. Searching for episodes: Done.\n",
      "\tSearching for Business: 50 shows are found. Searching for episodes: Done.\n",
      "\tSearching for Business & Technology: 50 shows are found. Searching for episodes: Done.\n",
      "\tSearching for Careers: 50 shows are found. Searching for episodes: Done.\n",
      "\tSearching for Economics: 50 shows are found. Searching for episodes: Done.\n",
      "\tSearching for Finance: 50 shows are found. Searching for episodes: Done.\n",
      "\tSearching for Marketing: 50 shows are found. Searching for episodes: Done.\n",
      "\tSearching for Technology: 50 shows are found. Searching for episodes: Done.\n",
      "\tSearching for Educational: 50 shows are found. Searching for episodes: Done.\n",
      "\tSearching for Government: 50 shows are found. Searching for episodes: Done.\n",
      "\tSearching for History: 50 shows are found. Searching for episodes: Done.\n",
      "\tSearching for Language: 50 shows are found. Searching for episodes: Done.\n",
      "\tSearching for Philosophy: 50 shows are found. Searching for episodes: Done.\n",
      "\tSearching for Science: 50 shows are found. Searching for episodes: Done.\n",
      "\tSearching for Games: 50 shows are found. Searching for episodes: Done.\n",
      "\tSearching for Video games: 50 shows are found. Searching for episodes: Done.\n",
      "\tSearching for Beauty: 50 shows are found. Searching for episodes: Done.\n",
      "\tSearching for Fashion: 50 shows are found. Searching for episodes: Done.\n",
      "\tSearching for Fitness & Nutrition: 50 shows are found. Searching for episodes: Done.\n",
      "\tSearching for Food: 50 shows are found. Searching for episodes: Done.\n",
      "\tSearching for Health: 50 shows are found. Searching for episodes: Done.\n",
      "\tSearching for Hobbies: 50 shows are found. Searching for episodes: Done.\n",
      "\tSearching for Lifestyle: 50 shows are found. Searching for episodes: Done.\n",
      "\tSearching for Meditation Podcasts: 50 shows are found. Searching for episodes: Done.\n",
      "\tSearching for Parenting: 50 shows are found. Searching for episodes: Done.\n",
      "\tSearching for Relationships: 50 shows are found. Searching for episodes: Done.\n",
      "\tSearching for Self-care: 50 shows are found. Searching for episodes: Done.\n",
      "\tSearching for Sex: 50 shows are found. Searching for episodes: Done.\n",
      "\tSearching for News & Politics: 50 shows are found. Searching for episodes: Done.\n",
      "\tSearching for Politics: 50 shows are found. Searching for episodes: Done.\n",
      "\tSearching for Baseball: 50 shows are found. Searching for episodes: Done.\n",
      "\tSearching for Basketball: 50 shows are found. Searching for episodes: Done.\n",
      "\tSearching for Boxing: 50 shows are found. Searching for episodes: Done.\n",
      "\tSearching for Football: 50 shows are found. Searching for episodes: Done.\n",
      "\tSearching for Hockey: 50 shows are found. Searching for episodes: Done.\n",
      "\tSearching for MMA: 50 shows are found. Searching for episodes: Done.\n",
      "\tSearching for Outdoor: 50 shows are found. Searching for episodes: Done.\n",
      "\tSearching for Rugby: 50 shows are found. Searching for episodes: Done.\n",
      "\tSearching for Running: 50 shows are found. Searching for episodes: Done.\n",
      "\tSearching for Soccer: 50 shows are found. Searching for episodes: Done.\n",
      "\tSearching for Sports & Recreation: 50 shows are found. Searching for episodes: Done.\n",
      "\tSearching for Tennis: 50 shows are found. Searching for episodes: Done.\n",
      "\tSearching for Wrestling: 50 shows are found. Searching for episodes: Done.\n",
      "\tSearching for True Crime: 50 shows are found. Searching for episodes: Done.\n",
      "Writing data to csv: Done.\n"
     ]
    }
   ],
   "source": [
    "import pandas as pd\n",
    "\n",
    "for i in range(ini_epoch, end_epoch+1):\n",
    "    print(f'Epoch {i}:')\n",
    "    shows_data = []\n",
    "    episodes_data = []\n",
    "    \n",
    "    for cat in categories:\n",
    "        print(f'\\tSearching for {cat}:', end=' ')\n",
    "        offset = limit_shows * (i-1)\n",
    "        try:\n",
    "            shows = sp.search(q=cat, limit = limit_shows, offset = offset, type='show')['shows']['items']\n",
    "        except spotipy.SpotifyException as error: # no more shows, then end searching for current category\n",
    "            continue\n",
    "        else:\n",
    "            print(f'{len(shows)} shows are found. Searching for episodes:', end=' ')\n",
    "            for show in shows:\n",
    "                shows_data.append({'show_id': show['id'],\n",
    "                                   'show_name': show['name'],\n",
    "                                   'show_category': cat,\n",
    "                                   'show_description': show['description']})\n",
    "                \n",
    "                episodes = sp.show(show['id'])['episodes']['items'] # episodes searching limit = 50\n",
    "                for episode in episodes:\n",
    "                    if episode != None:\n",
    "                        episodes_data.append({'episode_id': episode['id'],\n",
    "                                              'episode_name': episode['name'],\n",
    "                                              'episode_description': episode['description'],\n",
    "                                              'show_id': show['id'],\n",
    "                                              'show_category': cat})\n",
    "                \n",
    "            print('Done.')\n",
    "    \n",
    "    print('Writing data to csv:', end=' ')\n",
    "    shows_data = pd.DataFrame(shows_data)\n",
    "    shows_data = shows_data.drop_duplicates(subset='show_id', keep='first')\n",
    "    shows_data.to_csv('shows_data_epoch_'+str(i)+'.csv', index=False)\n",
    "    \n",
    "    episodes_data = pd.DataFrame(episodes_data)\n",
    "    episodes_data = episodes_data.drop_duplicates(subset='episode_id', keep='first')\n",
    "    episodes_data.to_csv('episodes_data_epoch_'+str(i)+'.csv', index=False)\n",
    "    print('Done.')"
   ]
  },
  {
   "cell_type": "code",
   "execution_count": null,
   "id": "1541a678",
   "metadata": {},
   "outputs": [],
   "source": []
  }
 ],
 "metadata": {
  "kernelspec": {
   "display_name": "Python 3 (ipykernel)",
   "language": "python",
   "name": "python3"
  },
  "language_info": {
   "codemirror_mode": {
    "name": "ipython",
    "version": 3
   },
   "file_extension": ".py",
   "mimetype": "text/x-python",
   "name": "python",
   "nbconvert_exporter": "python",
   "pygments_lexer": "ipython3",
   "version": "3.11.7"
  }
 },
 "nbformat": 4,
 "nbformat_minor": 5
}
